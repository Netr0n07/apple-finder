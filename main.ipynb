{
 "cells": [
  {
   "cell_type": "code",
   "execution_count": null,
   "id": "05098e69",
   "metadata": {},
   "outputs": [],
   "source": [
    "# C1 — Imports + helper (image preview)\n",
    "\n",
    "import os\n",
    "from pathlib import Path\n",
    "\n",
    "import cv2\n",
    "import numpy as np\n",
    "import pandas as pd\n",
    "import matplotlib.pyplot as plt\n",
    "\n",
    "from dotenv import load_dotenv\n",
    "from roboflow import Roboflow\n",
    "import supervision as sv\n",
    "\n",
    "def show_bgr(img_bgr, title=None, size=(6,6)):\n",
    "    img_rgb = cv2.cvtColor(img_bgr, cv2.COLOR_BGR2RGB)\n",
    "    plt.figure(figsize=size)\n",
    "    if title:\n",
    "        plt.title(title)\n",
    "    plt.axis(\"off\")\n",
    "    plt.imshow(img_rgb)\n",
    "    plt.show()"
   ]
  },
  {
   "cell_type": "code",
   "execution_count": null,
   "id": "7d3c5242",
   "metadata": {},
   "outputs": [],
   "source": [
    "# C2 — Load API key and config from .env\n",
    "\n",
    "load_dotenv()\n",
    "\n",
    "API_KEY = os.getenv(\"ROBOFLOW_API_KEY\")\n",
    "MODEL_ID_RAW = os.getenv(\"ROBOFLOW_MODEL_ID\")  # e.g. \"applefinder-im9ep/2\"\n",
    "CONFIDENCE = int(os.getenv(\"CONFIDENCE\", \"50\"))\n",
    "OVERLAP = int(os.getenv(\"OVERLAP\", \"50\"))\n",
    "WORKSPACE = os.getenv(\"ROBOFLOW_WORKSPACE\")  # optional\n",
    "\n",
    "if not API_KEY:\n",
    "    raise RuntimeError(\"ROBOFLOW_API_KEY not set\")\n",
    "\n",
    "if not MODEL_ID_RAW or \"/\" not in MODEL_ID_RAW:\n",
    "    raise RuntimeError(\"ROBOFLOW_MODEL_ID must look like 'project-slug/version'\")\n",
    "\n",
    "PROJECT_SLUG, VERSION_STR = MODEL_ID_RAW.split(\"/\", 1)\n",
    "VERSION = int(VERSION_STR)"
   ]
  },
  {
   "cell_type": "code",
   "execution_count": null,
   "id": "daa58bfb",
   "metadata": {},
   "outputs": [],
   "source": [
    "# C3 — Connect to Roboflow\n",
    "\n",
    "rf = Roboflow(api_key=API_KEY)\n",
    "ws = rf.workspace(WORKSPACE) if WORKSPACE else rf.workspace()\n",
    "project = ws.project(PROJECT_SLUG)\n",
    "model = project.version(VERSION).model"
   ]
  },
  {
   "cell_type": "code",
   "execution_count": null,
   "id": "886cd0a0",
   "metadata": {},
   "outputs": [],
   "source": [
    "# C4 — Run inference on an image\n",
    "\n",
    "image_path = \"sample.jpg\"\n",
    "result = model.predict(image_path, confidence=CONFIDENCE, overlap=OVERLAP).json()"
   ]
  },
  {
   "cell_type": "code",
   "execution_count": null,
   "id": "b04b460e",
   "metadata": {},
   "outputs": [],
   "source": [
    "# C5 — Predictions to DataFrame\n",
    "\n",
    "preds = result[\"predictions\"]\n",
    "df = pd.DataFrame(preds)\n",
    "df"
   ]
  },
  {
   "cell_type": "code",
   "execution_count": null,
   "id": "b273a6fa",
   "metadata": {},
   "outputs": [],
   "source": [
    "# C6 — Save results\n",
    "\n",
    "out_dir = Path(\"outputs\")\n",
    "out_dir.mkdir(exist_ok=True)\n",
    "\n",
    "df.to_csv(out_dir / \"results.csv\", index=False)\n",
    "print(\"Results saved in outputs/results.csv\")"
   ]
  },
  {
   "cell_type": "code",
   "execution_count": null,
   "id": "fc281e5d",
   "metadata": {},
   "outputs": [],
   "source": [
    "# C7 — Visualize predictions\n",
    "\n",
    "image = cv2.imread(image_path)\n",
    "\n",
    "# Create detections (handle different supervision versions)\n",
    "try:\n",
    "    detections = sv.Detections.from_roboflow(result)\n",
    "except AttributeError:\n",
    "    detections = sv.Detections.from_inference(result)\n",
    "\n",
    "box_annotator = sv.BoxAnnotator()\n",
    "labels = [f\"{pred['class']} {pred['confidence']:.2f}\" for pred in preds]\n",
    "\n",
    "annotated = box_annotator.annotate(scene=image.copy(), detections=detections, labels=labels)\n",
    "cv2.imwrite(str(out_dir / \"annotated.jpg\"), annotated)\n",
    "print(\"Saved annotated image to outputs/annotated.jpg\")\n",
    "show_bgr(annotated, \"Predictions\")"
   ]
  },
  {
   "cell_type": "code",
   "execution_count": null,
   "id": "71d7a7a1",
   "metadata": {},
   "outputs": [],
   "source": [
    "# C8 — Confidence histogram\n",
    "\n",
    "plt.figure(figsize=(6,4))\n",
    "df[\"confidence\"].hist(bins=10)\n",
    "plt.title(\"Confidence distribution\")\n",
    "plt.xlabel(\"Confidence\")\n",
    "plt.ylabel(\"Count\")\n",
    "plt.tight_layout()\n",
    "plt.savefig(str(out_dir / \"confidence_hist.png\"), dpi=150)\n",
    "plt.show()"
   ]
  },
  {
   "cell_type": "code",
   "execution_count": null,
   "id": "0bcc8944",
   "metadata": {},
   "outputs": [],
   "source": [
    "# C9 — Class counts\n",
    "\n",
    "df[\"class\"].value_counts().plot(kind=\"bar\")\n",
    "plt.title(\"Predicted objects count by class\")\n",
    "plt.xlabel(\"Class\")\n",
    "plt.ylabel(\"Count\")\n",
    "plt.tight_layout()\n",
    "plt.savefig(str(out_dir / \"class_counts.png\"), dpi=150)\n",
    "plt.show()"
   ]
  },
  {
   "cell_type": "code",
   "execution_count": null,
   "id": "29707313",
   "metadata": {},
   "outputs": [],
   "source": [
    "# C10 — Export selected assets to docs/ for GitHub\n",
    "from pathlib import Path\n",
    "import shutil\n",
    "\n",
    "docs_dir = Path(\"docs\")\n",
    "docs_dir.mkdir(exist_ok=True)\n",
    "\n",
    "assets = [\n",
    "    out_dir / \"annotated.jpg\",\n",
    "    out_dir / \"confidence_hist.png\",\n",
    "    out_dir / \"class_counts.png\",\n",
    "]\n",
    "\n",
    "for asset in assets:\n",
    "    if asset.exists():\n",
    "        shutil.copy(asset, docs_dir / asset.name)\n",
    "        print(f\"Copied {asset.name} -> docs/{asset.name}\")\n",
    "    else:\n",
    "        print(f\"Skipping {asset.name} (not found)\")"
   ]
  }
 ],
 "metadata": {
  "kernelspec": {
   "display_name": ".venv",
   "language": "python",
   "name": "python3"
  },
  "language_info": {
   "codemirror_mode": {
    "name": "ipython",
    "version": 3
   },
   "file_extension": ".py",
   "mimetype": "text/x-python",
   "name": "python",
   "nbconvert_exporter": "python",
   "pygments_lexer": "ipython3",
   "version": "3.10.11"
  }
 },
 "nbformat": 4,
 "nbformat_minor": 5
}
